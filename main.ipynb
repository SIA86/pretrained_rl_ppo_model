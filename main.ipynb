{
 "cells": [
  {
   "cell_type": "code",
   "execution_count": null,
   "metadata": {},
   "outputs": [],
   "source": [
    "# Parameters\n",
    "joblib_path = \"path/to/data.joblib\"  # <-- provide path\n",
    "timestamp_col = \"timestamp\"          # column with timestamps\n",
    "ema_fast_period = 12\n",
    "ema_slow_period = 26\n"
   ]
  },
  {
   "cell_type": "code",
   "execution_count": null,
   "metadata": {},
   "outputs": [],
   "source": [
    "import joblib\n",
    "import numpy as np\n",
    "import pandas as pd\n",
    "\n",
    "from scr.check_data import prepare_time_series\n",
    "import scr.indicators as ind\n",
    "from scr.q_labels_matching import enrich_q_labels_trend_one_side\n",
    "from scr.visualisation import plot_enriched_actions_one_side\n"
   ]
  },
  {
   "cell_type": "code",
   "execution_count": null,
   "metadata": {},
   "outputs": [],
   "source": [
    "# Load and check data\n",
    "raw_df = joblib.load(joblib_path)\n",
    "df = prepare_time_series(raw_df, timestamp_col=timestamp_col)\n"
   ]
  },
  {
   "cell_type": "code",
   "execution_count": null,
   "metadata": {},
   "outputs": [],
   "source": [
    "# Add indicators\n",
    "close = df['Close'].to_numpy(np.float64)\n",
    "high = df['High'].to_numpy(np.float64)\n",
    "low = df['Low'].to_numpy(np.float64)\n",
    "volume = df['Volume'].to_numpy(np.float64)\n",
    "\n",
    "df['EMA_fast_raw'] = ind.ema_numba(close, ema_fast_period)\n",
    "df['EMA_slow_raw'] = ind.ema_numba(close, ema_slow_period)\n",
    "df['EMA_fast'] = ind.ema_numba_safe(close, ema_fast_period)\n",
    "df['EMA_slow'] = ind.ema_numba_safe(close, ema_slow_period)\n",
    "df['SMA_14'] = ind.sma_numba(close, 14)\n",
    "df['ADX_14'] = ind.adx_numba(high, low, close, 14)\n",
    "df['ATR_14'] = ind.atr_numba(high, low, close, 14)\n",
    "df['RSI_14'] = ind.rsi_numba(close, 14)\n",
    "macd, macd_signal, macd_hist = ind.macd_numba(close, 12, 26, 9)\n",
    "df['MACD'] = macd\n",
    "df['MACD_signal'] = macd_signal\n",
    "df['MACD_hist'] = macd_hist\n",
    "stoch_k, stoch_d = ind.stoch_numba(high, low, close, 14, 3)\n",
    "df['STOCH_K'] = stoch_k\n",
    "df['STOCH_D'] = stoch_d\n",
    "boll_mid, boll_up, boll_dn = ind.bollinger_numba(close, 20, 2.0)\n",
    "df['BOLL_MID'] = boll_mid\n",
    "df['BOLL_UP'] = boll_up\n",
    "df['BOLL_DN'] = boll_dn\n",
    "df['OBV'] = ind.obv_numba(close, volume)\n",
    "df['CCI_20'] = ind.cci_numba(high, low, close, 20)\n",
    "df['WILLR_14'] = ind.williams_r_numba(high, low, close, 14)\n",
    "df['MFI_14'] = ind.mfi_numba(high, low, close, volume, 14)\n",
    "df['ROC_12'] = ind.roc_numba(close, 12)\n",
    "df['VWAP_20'] = ind.vwap_numba(high, low, close, volume, 20)\n",
    "piv = ind.zigzag_pivots_highlow_numba(high, low, close, 0.05, -0.05, 3, 1)\n",
    "df['Pivots'] = piv\n",
    "df['Pivots_expanded'] = ind.expand_pivots(piv, 2)\n"
   ]
  },
  {
   "cell_type": "code",
   "execution_count": null,
   "metadata": {},
   "outputs": [],
   "source": [
    "# Signal marking via EMA cross\n",
    "diff = df['EMA_fast'] - df['EMA_slow']\n",
    "cross = np.sign(diff).diff().fillna(0)\n",
    "df['Signal_Rule'] = np.select(\n",
    "    [cross > 0, cross < 0],\n",
    "    [1, -1],\n",
    "    default=0,\n",
    ")\n"
   ]
  },
  {
   "cell_type": "code",
   "execution_count": null,
   "metadata": {},
   "outputs": [],
   "source": [
    "# Q-labels\n",
    "df = enrich_q_labels_trend_one_side(df)\n"
   ]
  },
  {
   "cell_type": "code",
   "execution_count": null,
   "metadata": {},
   "outputs": [],
   "source": [
    "# Visualisation\n",
    "plot_enriched_actions_one_side(df)\n"
   ]
  }
 ],
 "metadata": {
  "kernelspec": {
   "display_name": "Python 3",
   "language": "python",
   "name": "python3"
  },
  "language_info": {
   "name": "python",
   "pygments_lexer": "ipython3"
  }
 },
 "nbformat": 4,
 "nbformat_minor": 2
}
